{
  "nbformat": 4,
  "nbformat_minor": 0,
  "metadata": {
    "colab": {
      "private_outputs": true,
      "provenance": [],
      "authorship_tag": "ABX9TyNC2rhQsttLVfGBgV3AX4GX",
      "include_colab_link": true
    },
    "kernelspec": {
      "name": "python3",
      "display_name": "Python 3"
    },
    "language_info": {
      "name": "python"
    }
  },
  "cells": [
    {
      "cell_type": "markdown",
      "metadata": {
        "id": "view-in-github",
        "colab_type": "text"
      },
      "source": [
        "<a href=\"https://colab.research.google.com/github/Pushkar-cash/codsoft_task1/blob/main/ChatBox.ipynb\" target=\"_parent\"><img src=\"https://colab.research.google.com/assets/colab-badge.svg\" alt=\"Open In Colab\"/></a>"
      ]
    },
    {
      "cell_type": "code",
      "execution_count": null,
      "metadata": {
        "id": "vLiLiY_9nM_M"
      },
      "outputs": [],
      "source": [
        "def greet(user_name):\n",
        "  print(\"Hello,\", user_name + \"!\")\n",
        "\n",
        "def respond(user_input):\n",
        "  if \"hello\" in user_input.lower():\n",
        "    print(\"Hi there!\")\n",
        "  elif \"how are you\" in user_input.lower():\n",
        "    print(\"I'm doing well, thanks for asking!\")\n",
        "  elif \"bye\" in user_input.lower():\n",
        "    print(\"Goodbye!\")\n",
        "  else:\n",
        "    print(\"I didn't quite understand that.\")\n",
        "\n",
        "def main():\n",
        "  print(\"Welcome to the Simple Chatbot!\")\n",
        "  user_name = input(\"Please enter your name: \")\n",
        "  greet(user_name)\n",
        "\n",
        "  while True:\n",
        "    user_input = input(\"You: \")\n",
        "    respond(user_input)\n",
        "    if \"bye\" in user_input.lower():\n",
        "      break\n",
        "\n",
        "if __name__ == \"__main__\":\n",
        "  main()"
      ]
    }
  ]
}